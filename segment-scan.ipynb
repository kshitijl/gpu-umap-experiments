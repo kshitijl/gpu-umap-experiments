{
 "cells": [
  {
   "cell_type": "code",
   "execution_count": 5,
   "id": "959a12e9-6871-45ad-9729-79db3b18fff7",
   "metadata": {},
   "outputs": [],
   "source": [
    "import torch\n",
    "mps = torch.device(\"mps\")"
   ]
  },
  {
   "cell_type": "code",
   "execution_count": 6,
   "id": "00c91f39-fc08-4dc1-85b3-801a752b349f",
   "metadata": {},
   "outputs": [],
   "source": [
    "values = torch.tensor([1,2,3,4,5,6], dtype=torch.float32, device=mps)\n",
    "starts = torch.tensor([0,3,5], dtype=torch.int32,device=mps)"
   ]
  },
  {
   "cell_type": "code",
   "execution_count": 8,
   "id": "c1351916-b04d-4126-b2ec-25d9a2c5c1e3",
   "metadata": {},
   "outputs": [],
   "source": [
    "bc = torch.cumsum(values, dim=0)"
   ]
  },
  {
   "cell_type": "code",
   "execution_count": 9,
   "id": "3ba75fa4-0ee1-44d1-bd65-d0000f1aeab9",
   "metadata": {},
   "outputs": [
    {
     "name": "stdout",
     "output_type": "stream",
     "text": [
      "tensor([ 1.,  3.,  6., 10., 15., 21.], device='mps:0')\n"
     ]
    }
   ],
   "source": [
    "print(bc)"
   ]
  },
  {
   "cell_type": "code",
   "execution_count": 15,
   "id": "4ee28a00-2099-4317-8702-88ae4d34fcc9",
   "metadata": {},
   "outputs": [
    {
     "name": "stdout",
     "output_type": "stream",
     "text": [
      "tensor([ 0.,  6., 15.], device='mps:0')\n"
     ]
    }
   ],
   "source": [
    "baselines = torch.zeros_like(starts, dtype=torch.float32)\n",
    "baselines[1:] = bc[starts[1:]-1]\n",
    "print(baselines)"
   ]
  },
  {
   "cell_type": "code",
   "execution_count": 25,
   "id": "d9dee5f0-19cd-4a02-b904-7d40d32ec7f6",
   "metadata": {},
   "outputs": [],
   "source": [
    "seg_ids = torch.bucketize(torch.arange(len(values), dtype=torch.int32, device=mps), starts, right=True)-1"
   ]
  },
  {
   "cell_type": "code",
   "execution_count": 26,
   "id": "a372665f-bf0a-438a-b22e-a25a495f00df",
   "metadata": {},
   "outputs": [
    {
     "data": {
      "text/plain": [
       "tensor([ 0.,  0.,  0.,  6.,  6., 15.], device='mps:0')"
      ]
     },
     "execution_count": 26,
     "metadata": {},
     "output_type": "execute_result"
    }
   ],
   "source": [
    "baselines[seg_ids]"
   ]
  },
  {
   "cell_type": "code",
   "execution_count": 27,
   "id": "9390d1a1-4dab-4102-887a-139705e004e6",
   "metadata": {},
   "outputs": [
    {
     "data": {
      "text/plain": [
       "tensor([1., 3., 6., 4., 9., 6.], device='mps:0')"
      ]
     },
     "execution_count": 27,
     "metadata": {},
     "output_type": "execute_result"
    }
   ],
   "source": [
    "bc - baselines[seg_ids]"
   ]
  },
  {
   "cell_type": "code",
   "execution_count": 28,
   "id": "36d9b3d9-aea3-40a8-bea0-1342308c91df",
   "metadata": {},
   "outputs": [],
   "source": [
    "# This gives us the segment scan. But what we really want are just the per-segment sums"
   ]
  },
  {
   "cell_type": "code",
   "execution_count": 35,
   "id": "16f94a72-5c20-4cef-b958-c47b4195210a",
   "metadata": {},
   "outputs": [
    {
     "data": {
      "text/plain": [
       "tensor([6., 9., 6.], device='mps:0')"
      ]
     },
     "execution_count": 35,
     "metadata": {},
     "output_type": "execute_result"
    }
   ],
   "source": [
    "bc[[2,4,5]] - torch.tensor([0, 6,15],device=mps)"
   ]
  },
  {
   "cell_type": "code",
   "execution_count": 37,
   "id": "920063f4-19a3-4538-8db6-8ea6d6e0ae30",
   "metadata": {},
   "outputs": [
    {
     "name": "stdout",
     "output_type": "stream",
     "text": [
      "tensor([3, 5, 6], device='mps:0')\n"
     ]
    }
   ],
   "source": [
    "ends = torch.cat([starts[1:], torch.tensor([len(values)], device=starts.device)])\n",
    "print(ends)"
   ]
  },
  {
   "cell_type": "code",
   "execution_count": 38,
   "id": "860665d7-8085-4168-85a6-1676242d0c81",
   "metadata": {},
   "outputs": [
    {
     "data": {
      "text/plain": [
       "tensor([ 6., 15., 21.], device='mps:0')"
      ]
     },
     "execution_count": 38,
     "metadata": {},
     "output_type": "execute_result"
    }
   ],
   "source": [
    "bc[ends-1]"
   ]
  },
  {
   "cell_type": "code",
   "execution_count": 39,
   "id": "a444db8d-ad1d-44ce-a2ff-ddd58a505b1e",
   "metadata": {},
   "outputs": [
    {
     "data": {
      "text/plain": [
       "tensor([ 6., 15., 21.], device='mps:0')"
      ]
     },
     "execution_count": 39,
     "metadata": {},
     "output_type": "execute_result"
    }
   ],
   "source": [
    "bc[[2,4,5]]"
   ]
  },
  {
   "cell_type": "code",
   "execution_count": 43,
   "id": "2ca049e6-ffb2-4f3d-a571-1e431f6e71fb",
   "metadata": {},
   "outputs": [
    {
     "data": {
      "text/plain": [
       "tensor([6., 9., 6.], device='mps:0')"
      ]
     },
     "execution_count": 43,
     "metadata": {},
     "output_type": "execute_result"
    }
   ],
   "source": [
    "bc[ends-1] - torch.cat([torch.tensor([0.], device=mps), bc[starts[1:]-1]])"
   ]
  },
  {
   "cell_type": "code",
   "execution_count": 44,
   "id": "872f3c4e-cfe8-4bb6-b870-edc6a9be244b",
   "metadata": {},
   "outputs": [
    {
     "name": "stdout",
     "output_type": "stream",
     "text": [
      "tensor([6., 9., 6.], device='mps:0')\n"
     ]
    }
   ],
   "source": [
    "# Full code for segment_sum, given cumsum offsets\n",
    "\n",
    "values = torch.tensor([1,2,3,4,5,6], dtype=torch.float32, device=mps)\n",
    "starts = torch.tensor([0,3,5], dtype=torch.int32,device=mps)\n",
    "\n",
    "bc = torch.cumsum(values, dim=0)\n",
    "ends = torch.cat([starts[1:], torch.tensor([len(values)], device=starts.device)])\n",
    "segsum = bc[ends-1] - torch.cat([torch.tensor([0.], device=mps), bc[starts[1:]-1]])\n",
    "\n",
    "print(segsum)"
   ]
  },
  {
   "cell_type": "code",
   "execution_count": null,
   "id": "9da33b46-b2ed-4a68-a587-e37774495c60",
   "metadata": {},
   "outputs": [],
   "source": []
  }
 ],
 "metadata": {
  "kernelspec": {
   "display_name": "Python 3 (ipykernel)",
   "language": "python",
   "name": "python3"
  },
  "language_info": {
   "codemirror_mode": {
    "name": "ipython",
    "version": 3
   },
   "file_extension": ".py",
   "mimetype": "text/x-python",
   "name": "python",
   "nbconvert_exporter": "python",
   "pygments_lexer": "ipython3",
   "version": "3.12.10"
  }
 },
 "nbformat": 4,
 "nbformat_minor": 5
}
